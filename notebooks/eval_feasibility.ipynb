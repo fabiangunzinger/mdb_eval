{
 "cells": [
  {
   "cell_type": "markdown",
   "id": "96c3348c-b673-4bd9-ab6e-f8c427f36e82",
   "metadata": {},
   "source": [
    "Notebook purpose:\n",
    "\n",
    "- Explore whether we can analyse effect of MDB adoption"
   ]
  },
  {
   "cell_type": "code",
   "execution_count": 1,
   "id": "602f8929-cb96-4abf-99fb-50f3e9d4cf5f",
   "metadata": {},
   "outputs": [],
   "source": [
    "import functools\n",
    "import sys\n",
    "\n",
    "import matplotlib.pyplot as plt\n",
    "import numpy as np\n",
    "import pandas as pd\n",
    "import s3fs\n",
    "import scipy\n",
    "import seaborn as sns\n",
    "import statsmodels.api as sm\n",
    "import statsmodels.formula.api as smf\n",
    "\n",
    "sys.path.append(\"/Users/fgu/dev/projects/entropy\")\n",
    "import entropy.data.aggregators as ag\n",
    "import entropy.data.cleaners as cl\n",
    "import entropy.data.make_data as md\n",
    "import entropy.data.selectors as sl\n",
    "import entropy.data.validators as vl\n",
    "import entropy.eval as ev\n",
    "import entropy.helpers.aws as ha\n",
    "import entropy.helpers.data as hd\n",
    "import entropy.helpers.helpers as hh\n",
    "\n",
    "pd.set_option(\"display.max_rows\", 120)\n",
    "pd.set_option(\"display.max_columns\", 120)\n",
    "pd.set_option(\"max_colwidth\", None)\n",
    "%config InlineBackend.figure_format = 'retina'\n",
    "%load_ext autoreload\n",
    "%autoreload 2\n",
    "%matplotlib inline\n",
    "\n",
    "fs = s3fs.S3FileSystem(profile=\"3di\")"
   ]
  },
  {
   "cell_type": "code",
   "execution_count": 2,
   "id": "eef40588-6ef1-4130-93a0-f8564a4b279c",
   "metadata": {},
   "outputs": [
    {
     "name": "stdout",
     "output_type": "stream",
     "text": [
      "Time for read_txn_data                 : 56.31 seconds\n",
      "shape: (6,627,663, 35), users: 2679\n"
     ]
    },
    {
     "data": {
      "text/html": [
       "<div>\n",
       "<style scoped>\n",
       "    .dataframe tbody tr th:only-of-type {\n",
       "        vertical-align: middle;\n",
       "    }\n",
       "\n",
       "    .dataframe tbody tr th {\n",
       "        vertical-align: top;\n",
       "    }\n",
       "\n",
       "    .dataframe thead th {\n",
       "        text-align: right;\n",
       "    }\n",
       "</style>\n",
       "<table border=\"1\" class=\"dataframe\">\n",
       "  <thead>\n",
       "    <tr style=\"text-align: right;\">\n",
       "      <th></th>\n",
       "      <th>date</th>\n",
       "      <th>user_id</th>\n",
       "      <th>amount</th>\n",
       "      <th>desc</th>\n",
       "      <th>merchant</th>\n",
       "      <th>tag_group</th>\n",
       "      <th>tag</th>\n",
       "      <th>user_registration_date</th>\n",
       "      <th>account_created</th>\n",
       "      <th>account_id</th>\n",
       "      <th>account_last_refreshed</th>\n",
       "      <th>account_provider</th>\n",
       "      <th>account_type</th>\n",
       "      <th>birth_year</th>\n",
       "      <th>data_warehouse_date_created</th>\n",
       "      <th>data_warehouse_date_last_updated</th>\n",
       "      <th>id</th>\n",
       "      <th>is_debit</th>\n",
       "      <th>is_female</th>\n",
       "      <th>is_sa_flow</th>\n",
       "      <th>is_salary_pmt</th>\n",
       "      <th>is_urban</th>\n",
       "      <th>latest_balance</th>\n",
       "      <th>lsoa</th>\n",
       "      <th>merchant_business_line</th>\n",
       "      <th>msoa</th>\n",
       "      <th>postcode</th>\n",
       "      <th>region_name</th>\n",
       "      <th>salary_range</th>\n",
       "      <th>tag_auto</th>\n",
       "      <th>tag_manual</th>\n",
       "      <th>tag_spend</th>\n",
       "      <th>tag_up</th>\n",
       "      <th>updated_flag</th>\n",
       "      <th>ym</th>\n",
       "    </tr>\n",
       "  </thead>\n",
       "  <tbody>\n",
       "    <tr>\n",
       "      <th>0</th>\n",
       "      <td>2012-08-01</td>\n",
       "      <td>77</td>\n",
       "      <td>12.12</td>\n",
       "      <td>tv licence mbp - d/d</td>\n",
       "      <td>tv licensing</td>\n",
       "      <td>spend</td>\n",
       "      <td>communication</td>\n",
       "      <td>2010-07-10</td>\n",
       "      <td>2012-10-26</td>\n",
       "      <td>259583</td>\n",
       "      <td>2015-09-11</td>\n",
       "      <td>natwest bank</td>\n",
       "      <td>current</td>\n",
       "      <td>1945.0</td>\n",
       "      <td>2014-07-18</td>\n",
       "      <td>2015-03-19</td>\n",
       "      <td>1212601</td>\n",
       "      <td>True</td>\n",
       "      <td>0.0</td>\n",
       "      <td>False</td>\n",
       "      <td>False</td>\n",
       "      <td>1.0</td>\n",
       "      <td>NaN</td>\n",
       "      <td>e01002984</td>\n",
       "      <td>tv licensing</td>\n",
       "      <td>e02000609</td>\n",
       "      <td>kt3 5</td>\n",
       "      <td>london</td>\n",
       "      <td>NaN</td>\n",
       "      <td>tv licence</td>\n",
       "      <td>no tag</td>\n",
       "      <td>entertainment, tv, media</td>\n",
       "      <td>tv licence</td>\n",
       "      <td>u</td>\n",
       "      <td>2012-08</td>\n",
       "    </tr>\n",
       "    <tr>\n",
       "      <th>1</th>\n",
       "      <td>2012-08-01</td>\n",
       "      <td>77</td>\n",
       "      <td>13.81</td>\n",
       "      <td>amazon mktplace pmts amzn.com/billgbr</td>\n",
       "      <td>amazon</td>\n",
       "      <td>spend</td>\n",
       "      <td>services</td>\n",
       "      <td>2010-07-10</td>\n",
       "      <td>2012-10-26</td>\n",
       "      <td>259584</td>\n",
       "      <td>2014-03-06</td>\n",
       "      <td>natwest bank</td>\n",
       "      <td>credit card</td>\n",
       "      <td>1945.0</td>\n",
       "      <td>2014-07-18</td>\n",
       "      <td>2017-08-15</td>\n",
       "      <td>1213850</td>\n",
       "      <td>True</td>\n",
       "      <td>0.0</td>\n",
       "      <td>False</td>\n",
       "      <td>False</td>\n",
       "      <td>1.0</td>\n",
       "      <td>NaN</td>\n",
       "      <td>e01002984</td>\n",
       "      <td>amazon</td>\n",
       "      <td>e02000609</td>\n",
       "      <td>kt3 5</td>\n",
       "      <td>london</td>\n",
       "      <td>NaN</td>\n",
       "      <td>enjoyment</td>\n",
       "      <td>no tag</td>\n",
       "      <td>household</td>\n",
       "      <td>no tag</td>\n",
       "      <td>u</td>\n",
       "      <td>2012-08</td>\n",
       "    </tr>\n",
       "  </tbody>\n",
       "</table>\n",
       "</div>"
      ],
      "text/plain": [
       "        date  user_id  amount                                   desc  \\\n",
       "0 2012-08-01       77   12.12                   tv licence mbp - d/d   \n",
       "1 2012-08-01       77   13.81  amazon mktplace pmts amzn.com/billgbr   \n",
       "\n",
       "       merchant tag_group            tag user_registration_date  \\\n",
       "0  tv licensing     spend  communication             2010-07-10   \n",
       "1        amazon     spend       services             2010-07-10   \n",
       "\n",
       "  account_created  account_id account_last_refreshed account_provider  \\\n",
       "0      2012-10-26      259583             2015-09-11     natwest bank   \n",
       "1      2012-10-26      259584             2014-03-06     natwest bank   \n",
       "\n",
       "  account_type  birth_year data_warehouse_date_created  \\\n",
       "0      current      1945.0                  2014-07-18   \n",
       "1  credit card      1945.0                  2014-07-18   \n",
       "\n",
       "  data_warehouse_date_last_updated       id  is_debit  is_female  is_sa_flow  \\\n",
       "0                       2015-03-19  1212601      True        0.0       False   \n",
       "1                       2017-08-15  1213850      True        0.0       False   \n",
       "\n",
       "   is_salary_pmt  is_urban  latest_balance       lsoa merchant_business_line  \\\n",
       "0          False       1.0             NaN  e01002984           tv licensing   \n",
       "1          False       1.0             NaN  e01002984                 amazon   \n",
       "\n",
       "        msoa postcode region_name salary_range    tag_auto tag_manual  \\\n",
       "0  e02000609    kt3 5      london          NaN  tv licence     no tag   \n",
       "1  e02000609    kt3 5      london          NaN   enjoyment     no tag   \n",
       "\n",
       "                  tag_spend      tag_up updated_flag       ym  \n",
       "0  entertainment, tv, media  tv licence            u  2012-08  \n",
       "1                 household      no tag            u  2012-08  "
      ]
     },
     "metadata": {},
     "output_type": "display_data"
    }
   ],
   "source": [
    "dft = hd.read_txn_data(\"X77\")\n",
    "hd.inspect(dft)"
   ]
  },
  {
   "cell_type": "markdown",
   "id": "dcde8794-ca85-489f-b1df-3013eaba36b3",
   "metadata": {},
   "source": [
    "## Data availability"
   ]
  },
  {
   "cell_type": "markdown",
   "id": "843515df-f827-43be-9fc7-be534c19903c",
   "metadata": {},
   "source": [
    "What proportion of txns are pre-signup?"
   ]
  },
  {
   "cell_type": "code",
   "execution_count": 3,
   "id": "c34a3961-7f9e-476b-99c4-14c9d0d7e3aa",
   "metadata": {},
   "outputs": [
    {
     "name": "stdout",
     "output_type": "stream",
     "text": [
      "29.9% of observations are pre-signup.\n"
     ]
    }
   ],
   "source": [
    "def pre_signup_share(df):\n",
    "    return sum(df.date < df.user_registration_date) / len(df)\n",
    "\n",
    "\n",
    "print(\"{:.1%} of observations are pre-signup.\".format(pre_signup_share(dft)))"
   ]
  },
  {
   "cell_type": "markdown",
   "id": "ffdc6c81-e55c-436f-b050-e6ddf5224624",
   "metadata": {},
   "source": [
    "What's the distribution of pre-signup share of txns across users?"
   ]
  },
  {
   "cell_type": "code",
   "execution_count": 4,
   "id": "20b11686-783b-4bf6-bee6-04056289fdd6",
   "metadata": {},
   "outputs": [
    {
     "data": {
      "text/plain": [
       "count    2679.000000\n",
       "mean        0.431379\n",
       "std         0.374469\n",
       "min         0.000000\n",
       "10%         0.017947\n",
       "20%         0.042603\n",
       "30%         0.087974\n",
       "40%         0.193887\n",
       "50%         0.335071\n",
       "max         1.000000\n",
       "dtype: float64"
      ]
     },
     "execution_count": 4,
     "metadata": {},
     "output_type": "execute_result"
    }
   ],
   "source": [
    "pcts = [0.1, 0.2, 0.3, 0.4, 0.5]\n",
    "dft.groupby(\"user_id\").apply(pre_signup_share).describe(percentiles=pcts)"
   ]
  },
  {
   "cell_type": "markdown",
   "id": "4428c873-e23a-47a5-84d2-55ba176357a4",
   "metadata": {},
   "source": [
    "How many days long is the pre-signup window we can observe?"
   ]
  },
  {
   "cell_type": "code",
   "execution_count": 5,
   "id": "12265b04-ad9f-4d28-af73-4a2103c46da3",
   "metadata": {},
   "outputs": [
    {
     "data": {
      "text/plain": [
       "count    2679.000000\n",
       "mean      258.262038\n",
       "std       294.341061\n",
       "min         0.000000\n",
       "25%        67.000000\n",
       "50%        86.000000\n",
       "75%       349.000000\n",
       "max      1106.000000\n",
       "dtype: float64"
      ]
     },
     "execution_count": 5,
     "metadata": {},
     "output_type": "execute_result"
    }
   ],
   "source": [
    "def pre_window_length(df):\n",
    "    min_window_length = (df.date - df.user_registration_date).dt.days.min()\n",
    "    return abs(min(0, min_window_length))\n",
    "\n",
    "\n",
    "dft.groupby(\"user_id\").apply(pre_window_length).describe()"
   ]
  },
  {
   "cell_type": "markdown",
   "id": "ff9591a4-dbe0-4d6d-bf71-4719b2fecd39",
   "metadata": {},
   "source": [
    "Suggests we'll have to restrict sample quite considerably if we want a window of 6 or even 12 months."
   ]
  },
  {
   "cell_type": "markdown",
   "id": "5b402776-0144-4ef8-9c11-da8a66616d99",
   "metadata": {},
   "source": [
    "### Proportion of accounts observed throughout"
   ]
  },
  {
   "cell_type": "markdown",
   "id": "3eb0260c-8957-438c-a3b4-d1f542fa8ee0",
   "metadata": {},
   "source": [
    "What proportion of accounts do we observe throughout?"
   ]
  },
  {
   "cell_type": "code",
   "execution_count": 15,
   "id": "cea89ca1-1592-498c-84a6-17d5efb19352",
   "metadata": {},
   "outputs": [
    {
     "data": {
      "text/plain": [
       "count    2679.000000\n",
       "mean        2.039194\n",
       "std         2.198588\n",
       "min         1.000000\n",
       "50%         1.000000\n",
       "60%         1.000000\n",
       "70%         2.000000\n",
       "80%         3.000000\n",
       "90%         4.000000\n",
       "max        29.000000\n",
       "Name: account_created, dtype: float64"
      ]
     },
     "execution_count": 15,
     "metadata": {},
     "output_type": "execute_result"
    }
   ],
   "source": [
    "dft.groupby(\"user_id\").account_created.nunique().describe(\n",
    "    percentiles=[0.5, 0.6, 0.7, 0.8, 0.9]\n",
    ")"
   ]
  },
  {
   "cell_type": "code",
   "execution_count": 18,
   "id": "2402b13e-b191-48c2-a6e1-26b638795079",
   "metadata": {},
   "outputs": [
    {
     "data": {
      "text/plain": [
       "0.6519130498940576"
      ]
     },
     "execution_count": 18,
     "metadata": {},
     "output_type": "execute_result"
    }
   ],
   "source": [
    "(dft.account_created == dft.user_registration_date).mean()"
   ]
  }
 ],
 "metadata": {
  "kernelspec": {
   "display_name": "entropy",
   "language": "python",
   "name": "entropy"
  },
  "language_info": {
   "codemirror_mode": {
    "name": "ipython",
    "version": 3
   },
   "file_extension": ".py",
   "mimetype": "text/x-python",
   "name": "python",
   "nbconvert_exporter": "python",
   "pygments_lexer": "ipython3",
   "version": "3.9.7"
  }
 },
 "nbformat": 4,
 "nbformat_minor": 5
}
