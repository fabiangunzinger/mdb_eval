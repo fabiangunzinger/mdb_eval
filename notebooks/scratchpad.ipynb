{
 "cells": [
  {
   "cell_type": "code",
   "execution_count": 88,
   "id": "ace5cf7b-9efc-4759-859e-dc12cf4a1bf0",
   "metadata": {},
   "outputs": [
    {
     "name": "stdout",
     "output_type": "stream",
     "text": [
      "The autoreload extension is already loaded. To reload it, use:\n",
      "  %reload_ext autoreload\n"
     ]
    }
   ],
   "source": [
    "import sys\n",
    "\n",
    "import numpy as np\n",
    "import pandas as pd\n",
    "import seaborn as sns\n",
    "import s3fs\n",
    "\n",
    "sys.path.append(\"/Users/fgu/dev/projects/mdb_eval\")\n",
    "import src.helpers.io as io\n",
    "import src.helpers.data as hd\n",
    "import src.data.aggregators as agg\n",
    "import src.data.selectors as sl\n",
    "import src.data.make_data as md\n",
    "\n",
    "fs = s3fs.S3FileSystem(profile=\"3di\")\n",
    "\n",
    "pd.set_option(\"display.max_rows\", 120)\n",
    "pd.set_option(\"display.max_columns\", 120)\n",
    "pd.set_option(\"max_colwidth\", None)\n",
    "%load_ext autoreload\n",
    "%autoreload 2"
   ]
  },
  {
   "cell_type": "code",
   "execution_count": 87,
   "id": "2cbf0a58-860f-4841-8ac2-ce161430e6c9",
   "metadata": {},
   "outputs": [
    {
     "name": "stdout",
     "output_type": "stream",
     "text": [
      "The autoreload extension is already loaded. To reload it, use:\n",
      "  %reload_ext autoreload\n",
      "shape: (457,534, 28), users: 10923\n"
     ]
    },
    {
     "data": {
      "text/html": [
       "<div>\n",
       "<style scoped>\n",
       "    .dataframe tbody tr th:only-of-type {\n",
       "        vertical-align: middle;\n",
       "    }\n",
       "\n",
       "    .dataframe tbody tr th {\n",
       "        vertical-align: top;\n",
       "    }\n",
       "\n",
       "    .dataframe thead th {\n",
       "        text-align: right;\n",
       "    }\n",
       "</style>\n",
       "<table border=\"1\" class=\"dataframe\">\n",
       "  <thead>\n",
       "    <tr style=\"text-align: right;\">\n",
       "      <th></th>\n",
       "      <th>user_id</th>\n",
       "      <th>ym</th>\n",
       "      <th>ymn</th>\n",
       "      <th>txns_count</th>\n",
       "      <th>txns_volume</th>\n",
       "      <th>month_income</th>\n",
       "      <th>inflows</th>\n",
       "      <th>outflows</th>\n",
       "      <th>netflows</th>\n",
       "      <th>netflows_norm</th>\n",
       "      <th>inflows_norm</th>\n",
       "      <th>outflows_norm</th>\n",
       "      <th>has_pos_netflows</th>\n",
       "      <th>pos_netflows</th>\n",
       "      <th>t</th>\n",
       "      <th>tt</th>\n",
       "      <th>month_spend</th>\n",
       "      <th>user_registration_date</th>\n",
       "      <th>age</th>\n",
       "      <th>is_female</th>\n",
       "      <th>region</th>\n",
       "      <th>is_urban</th>\n",
       "      <th>has_sa_account</th>\n",
       "      <th>generation</th>\n",
       "      <th>generation_code</th>\n",
       "      <th>new_loan</th>\n",
       "      <th>prop_credit</th>\n",
       "      <th>disc_spend</th>\n",
       "    </tr>\n",
       "  </thead>\n",
       "  <tbody>\n",
       "    <tr>\n",
       "      <th>0</th>\n",
       "      <td>820</td>\n",
       "      <td>2012-01</td>\n",
       "      <td>201201</td>\n",
       "      <td>108.0</td>\n",
       "      <td>8214.089844</td>\n",
       "      <td>3003.09668</td>\n",
       "      <td>2419.590088</td>\n",
       "      <td>1476.069946</td>\n",
       "      <td>943.520142</td>\n",
       "      <td>0.314182</td>\n",
       "      <td>0.805698</td>\n",
       "      <td>0.491516</td>\n",
       "      <td>1</td>\n",
       "      <td>943.520142</td>\n",
       "      <td>1</td>\n",
       "      <td>5</td>\n",
       "      <td>2412.290039</td>\n",
       "      <td>2011-08-15</td>\n",
       "      <td>40.0</td>\n",
       "      <td>0.0</td>\n",
       "      <td>south east</td>\n",
       "      <td>1.0</td>\n",
       "      <td>True</td>\n",
       "      <td>Gen X</td>\n",
       "      <td>2</td>\n",
       "      <td>0</td>\n",
       "      <td>0.0</td>\n",
       "      <td>0.271020</td>\n",
       "    </tr>\n",
       "    <tr>\n",
       "      <th>1</th>\n",
       "      <td>820</td>\n",
       "      <td>2012-02</td>\n",
       "      <td>201202</td>\n",
       "      <td>90.0</td>\n",
       "      <td>8090.180176</td>\n",
       "      <td>3003.09668</td>\n",
       "      <td>2448.179932</td>\n",
       "      <td>2131.070068</td>\n",
       "      <td>317.109863</td>\n",
       "      <td>0.105594</td>\n",
       "      <td>0.815219</td>\n",
       "      <td>0.709624</td>\n",
       "      <td>1</td>\n",
       "      <td>317.109863</td>\n",
       "      <td>1</td>\n",
       "      <td>6</td>\n",
       "      <td>2219.459961</td>\n",
       "      <td>2011-08-15</td>\n",
       "      <td>40.0</td>\n",
       "      <td>0.0</td>\n",
       "      <td>south east</td>\n",
       "      <td>1.0</td>\n",
       "      <td>True</td>\n",
       "      <td>Gen X</td>\n",
       "      <td>2</td>\n",
       "      <td>0</td>\n",
       "      <td>0.0</td>\n",
       "      <td>0.210479</td>\n",
       "    </tr>\n",
       "  </tbody>\n",
       "</table>\n",
       "</div>"
      ],
      "text/plain": [
       "   user_id       ym     ymn  txns_count  txns_volume  month_income  \\\n",
       "0      820  2012-01  201201       108.0  8214.089844    3003.09668   \n",
       "1      820  2012-02  201202        90.0  8090.180176    3003.09668   \n",
       "\n",
       "       inflows     outflows    netflows  netflows_norm  inflows_norm  \\\n",
       "0  2419.590088  1476.069946  943.520142       0.314182      0.805698   \n",
       "1  2448.179932  2131.070068  317.109863       0.105594      0.815219   \n",
       "\n",
       "   outflows_norm  has_pos_netflows  pos_netflows  t  tt  month_spend  \\\n",
       "0       0.491516                 1    943.520142  1   5  2412.290039   \n",
       "1       0.709624                 1    317.109863  1   6  2219.459961   \n",
       "\n",
       "  user_registration_date   age  is_female      region  is_urban  \\\n",
       "0             2011-08-15  40.0        0.0  south east       1.0   \n",
       "1             2011-08-15  40.0        0.0  south east       1.0   \n",
       "\n",
       "   has_sa_account generation  generation_code  new_loan  prop_credit  \\\n",
       "0            True      Gen X                2         0          0.0   \n",
       "1            True      Gen X                2         0          0.0   \n",
       "\n",
       "   disc_spend  \n",
       "0    0.271020  \n",
       "1    0.210479  "
      ]
     },
     "metadata": {},
     "output_type": "display_data"
    },
    {
     "name": "stdout",
     "output_type": "stream",
     "text": [
      "Reading ~/tmp/mdb_111.parquet\n"
     ]
    },
    {
     "ename": "KeyboardInterrupt",
     "evalue": "",
     "output_type": "error",
     "traceback": [
      "\u001b[0;31m---------------------------------------------------------------------------\u001b[0m",
      "\u001b[0;31mKeyboardInterrupt\u001b[0m                         Traceback (most recent call last)",
      "\u001b[0;32m/var/folders/xg/n9p73cf50s52twlnz7z778vr0000gn/T/ipykernel_1203/1435562756.py\u001b[0m in \u001b[0;36m<module>\u001b[0;34m\u001b[0m\n\u001b[1;32m     26\u001b[0m \u001b[0mhd\u001b[0m\u001b[0;34m.\u001b[0m\u001b[0minspect\u001b[0m\u001b[0;34m(\u001b[0m\u001b[0mdfa\u001b[0m\u001b[0;34m)\u001b[0m\u001b[0;34m\u001b[0m\u001b[0;34m\u001b[0m\u001b[0m\n\u001b[1;32m     27\u001b[0m \u001b[0;34m\u001b[0m\u001b[0m\n\u001b[0;32m---> 28\u001b[0;31m \u001b[0mdft\u001b[0m \u001b[0;34m=\u001b[0m \u001b[0mmd\u001b[0m\u001b[0;34m.\u001b[0m\u001b[0mread_piece\u001b[0m\u001b[0;34m(\u001b[0m\u001b[0;34m'~/tmp/mdb_111.parquet'\u001b[0m\u001b[0;34m)\u001b[0m\u001b[0;34m\u001b[0m\u001b[0;34m\u001b[0m\u001b[0m\n\u001b[0m\u001b[1;32m     29\u001b[0m \u001b[0mhd\u001b[0m\u001b[0;34m.\u001b[0m\u001b[0minspect\u001b[0m\u001b[0;34m(\u001b[0m\u001b[0mdft\u001b[0m\u001b[0;34m)\u001b[0m\u001b[0;34m\u001b[0m\u001b[0;34m\u001b[0m\u001b[0m\n",
      "\u001b[0;32m~/dev/projects/mdb_eval/src/helpers/helpers.py\u001b[0m in \u001b[0;36mwrapper\u001b[0;34m(*args, **kwargs)\u001b[0m\n\u001b[1;32m      8\u001b[0m         \u001b[0;32mdef\u001b[0m \u001b[0mwrapper\u001b[0m\u001b[0;34m(\u001b[0m\u001b[0;34m*\u001b[0m\u001b[0margs\u001b[0m\u001b[0;34m,\u001b[0m \u001b[0;34m**\u001b[0m\u001b[0mkwargs\u001b[0m\u001b[0;34m)\u001b[0m\u001b[0;34m:\u001b[0m\u001b[0;34m\u001b[0m\u001b[0;34m\u001b[0m\u001b[0m\n\u001b[1;32m      9\u001b[0m             \u001b[0mstart\u001b[0m \u001b[0;34m=\u001b[0m \u001b[0mtime\u001b[0m\u001b[0;34m.\u001b[0m\u001b[0mtime\u001b[0m\u001b[0;34m(\u001b[0m\u001b[0;34m)\u001b[0m\u001b[0;34m\u001b[0m\u001b[0;34m\u001b[0m\u001b[0m\n\u001b[0;32m---> 10\u001b[0;31m             \u001b[0mresult\u001b[0m \u001b[0;34m=\u001b[0m \u001b[0mfunc\u001b[0m\u001b[0;34m(\u001b[0m\u001b[0;34m*\u001b[0m\u001b[0margs\u001b[0m\u001b[0;34m,\u001b[0m \u001b[0;34m**\u001b[0m\u001b[0mkwargs\u001b[0m\u001b[0;34m)\u001b[0m\u001b[0;34m\u001b[0m\u001b[0;34m\u001b[0m\u001b[0m\n\u001b[0m\u001b[1;32m     11\u001b[0m             \u001b[0mend\u001b[0m \u001b[0;34m=\u001b[0m \u001b[0mtime\u001b[0m\u001b[0;34m.\u001b[0m\u001b[0mtime\u001b[0m\u001b[0;34m(\u001b[0m\u001b[0;34m)\u001b[0m\u001b[0;34m\u001b[0m\u001b[0;34m\u001b[0m\u001b[0m\n\u001b[1;32m     12\u001b[0m             \u001b[0;32mif\u001b[0m \u001b[0mon\u001b[0m\u001b[0;34m:\u001b[0m\u001b[0;34m\u001b[0m\u001b[0;34m\u001b[0m\u001b[0m\n",
      "\u001b[0;32m~/dev/projects/mdb_eval/src/data/make_data.py\u001b[0m in \u001b[0;36mread_piece\u001b[0;34m(filepath, **kwargs)\u001b[0m\n\u001b[1;32m     29\u001b[0m \u001b[0;32mdef\u001b[0m \u001b[0mread_piece\u001b[0m\u001b[0;34m(\u001b[0m\u001b[0mfilepath\u001b[0m\u001b[0;34m,\u001b[0m \u001b[0;34m**\u001b[0m\u001b[0mkwargs\u001b[0m\u001b[0;34m)\u001b[0m\u001b[0;34m:\u001b[0m\u001b[0;34m\u001b[0m\u001b[0;34m\u001b[0m\u001b[0m\n\u001b[1;32m     30\u001b[0m     \u001b[0mprint\u001b[0m\u001b[0;34m(\u001b[0m\u001b[0;34m\"Reading\"\u001b[0m\u001b[0;34m,\u001b[0m \u001b[0mfilepath\u001b[0m\u001b[0;34m)\u001b[0m\u001b[0;34m\u001b[0m\u001b[0;34m\u001b[0m\u001b[0m\n\u001b[0;32m---> 31\u001b[0;31m     \u001b[0;32mreturn\u001b[0m \u001b[0mio\u001b[0m\u001b[0;34m.\u001b[0m\u001b[0mread_parquet\u001b[0m\u001b[0;34m(\u001b[0m\u001b[0mfilepath\u001b[0m\u001b[0;34m,\u001b[0m \u001b[0;34m**\u001b[0m\u001b[0mkwargs\u001b[0m\u001b[0;34m)\u001b[0m\u001b[0;34m\u001b[0m\u001b[0;34m\u001b[0m\u001b[0m\n\u001b[0m\u001b[1;32m     32\u001b[0m \u001b[0;34m\u001b[0m\u001b[0m\n\u001b[1;32m     33\u001b[0m \u001b[0;34m\u001b[0m\u001b[0m\n",
      "\u001b[0;32m~/dev/projects/mdb_eval/src/helpers/io.py\u001b[0m in \u001b[0;36mread_parquet\u001b[0;34m(path, aws_profile, **kwargs)\u001b[0m\n\u001b[1;32m     33\u001b[0m         \u001b[0moptions\u001b[0m \u001b[0;34m=\u001b[0m \u001b[0mdict\u001b[0m\u001b[0;34m(\u001b[0m\u001b[0mstorage_options\u001b[0m\u001b[0;34m=\u001b[0m\u001b[0mdict\u001b[0m\u001b[0;34m(\u001b[0m\u001b[0mprofile\u001b[0m\u001b[0;34m=\u001b[0m\u001b[0maws_profile\u001b[0m\u001b[0;34m)\u001b[0m\u001b[0;34m)\u001b[0m\u001b[0;34m\u001b[0m\u001b[0;34m\u001b[0m\u001b[0m\n\u001b[1;32m     34\u001b[0m         \u001b[0;32mreturn\u001b[0m \u001b[0mpd\u001b[0m\u001b[0;34m.\u001b[0m\u001b[0mread_parquet\u001b[0m\u001b[0;34m(\u001b[0m\u001b[0mpath\u001b[0m\u001b[0;34m,\u001b[0m \u001b[0;34m**\u001b[0m\u001b[0moptions\u001b[0m\u001b[0;34m,\u001b[0m \u001b[0;34m**\u001b[0m\u001b[0mkwargs\u001b[0m\u001b[0;34m)\u001b[0m\u001b[0;34m\u001b[0m\u001b[0;34m\u001b[0m\u001b[0m\n\u001b[0;32m---> 35\u001b[0;31m     \u001b[0;32mreturn\u001b[0m \u001b[0mpd\u001b[0m\u001b[0;34m.\u001b[0m\u001b[0mread_parquet\u001b[0m\u001b[0;34m(\u001b[0m\u001b[0mpath\u001b[0m\u001b[0;34m,\u001b[0m \u001b[0;34m**\u001b[0m\u001b[0mkwargs\u001b[0m\u001b[0;34m)\u001b[0m\u001b[0;34m\u001b[0m\u001b[0;34m\u001b[0m\u001b[0m\n\u001b[0m\u001b[1;32m     36\u001b[0m \u001b[0;34m\u001b[0m\u001b[0m\n\u001b[1;32m     37\u001b[0m \u001b[0;34m\u001b[0m\u001b[0m\n",
      "\u001b[0;32m~/miniconda3/envs/entropy/lib/python3.9/site-packages/pandas/io/parquet.py\u001b[0m in \u001b[0;36mread_parquet\u001b[0;34m(path, engine, columns, storage_options, use_nullable_dtypes, **kwargs)\u001b[0m\n\u001b[1;32m    493\u001b[0m     \u001b[0mimpl\u001b[0m \u001b[0;34m=\u001b[0m \u001b[0mget_engine\u001b[0m\u001b[0;34m(\u001b[0m\u001b[0mengine\u001b[0m\u001b[0;34m)\u001b[0m\u001b[0;34m\u001b[0m\u001b[0;34m\u001b[0m\u001b[0m\n\u001b[1;32m    494\u001b[0m \u001b[0;34m\u001b[0m\u001b[0m\n\u001b[0;32m--> 495\u001b[0;31m     return impl.read(\n\u001b[0m\u001b[1;32m    496\u001b[0m         \u001b[0mpath\u001b[0m\u001b[0;34m,\u001b[0m\u001b[0;34m\u001b[0m\u001b[0;34m\u001b[0m\u001b[0m\n\u001b[1;32m    497\u001b[0m         \u001b[0mcolumns\u001b[0m\u001b[0;34m=\u001b[0m\u001b[0mcolumns\u001b[0m\u001b[0;34m,\u001b[0m\u001b[0;34m\u001b[0m\u001b[0;34m\u001b[0m\u001b[0m\n",
      "\u001b[0;32m~/miniconda3/envs/entropy/lib/python3.9/site-packages/pandas/io/parquet.py\u001b[0m in \u001b[0;36mread\u001b[0;34m(self, path, columns, use_nullable_dtypes, storage_options, **kwargs)\u001b[0m\n\u001b[1;32m    237\u001b[0m         )\n\u001b[1;32m    238\u001b[0m         \u001b[0;32mtry\u001b[0m\u001b[0;34m:\u001b[0m\u001b[0;34m\u001b[0m\u001b[0;34m\u001b[0m\u001b[0m\n\u001b[0;32m--> 239\u001b[0;31m             result = self.api.parquet.read_table(\n\u001b[0m\u001b[1;32m    240\u001b[0m                 \u001b[0mpath_or_handle\u001b[0m\u001b[0;34m,\u001b[0m \u001b[0mcolumns\u001b[0m\u001b[0;34m=\u001b[0m\u001b[0mcolumns\u001b[0m\u001b[0;34m,\u001b[0m \u001b[0;34m**\u001b[0m\u001b[0mkwargs\u001b[0m\u001b[0;34m\u001b[0m\u001b[0;34m\u001b[0m\u001b[0m\n\u001b[1;32m    241\u001b[0m             ).to_pandas(**to_pandas_kwargs)\n",
      "\u001b[0;32m~/miniconda3/envs/entropy/lib/python3.9/site-packages/pyarrow/array.pxi\u001b[0m in \u001b[0;36mpyarrow.lib._PandasConvertible.to_pandas\u001b[0;34m()\u001b[0m\n",
      "\u001b[0;32m~/miniconda3/envs/entropy/lib/python3.9/site-packages/pyarrow/table.pxi\u001b[0m in \u001b[0;36mpyarrow.lib.Table._to_pandas\u001b[0;34m()\u001b[0m\n",
      "\u001b[0;32m~/miniconda3/envs/entropy/lib/python3.9/site-packages/pyarrow/pandas_compat.py\u001b[0m in \u001b[0;36mtable_to_blockmanager\u001b[0;34m(options, table, categories, ignore_metadata, types_mapper)\u001b[0m\n\u001b[1;32m    787\u001b[0m     \u001b[0m_check_data_column_metadata_consistency\u001b[0m\u001b[0;34m(\u001b[0m\u001b[0mall_columns\u001b[0m\u001b[0;34m)\u001b[0m\u001b[0;34m\u001b[0m\u001b[0;34m\u001b[0m\u001b[0m\n\u001b[1;32m    788\u001b[0m     \u001b[0mcolumns\u001b[0m \u001b[0;34m=\u001b[0m \u001b[0m_deserialize_column_index\u001b[0m\u001b[0;34m(\u001b[0m\u001b[0mtable\u001b[0m\u001b[0;34m,\u001b[0m \u001b[0mall_columns\u001b[0m\u001b[0;34m,\u001b[0m \u001b[0mcolumn_indexes\u001b[0m\u001b[0;34m)\u001b[0m\u001b[0;34m\u001b[0m\u001b[0;34m\u001b[0m\u001b[0m\n\u001b[0;32m--> 789\u001b[0;31m     \u001b[0mblocks\u001b[0m \u001b[0;34m=\u001b[0m \u001b[0m_table_to_blocks\u001b[0m\u001b[0;34m(\u001b[0m\u001b[0moptions\u001b[0m\u001b[0;34m,\u001b[0m \u001b[0mtable\u001b[0m\u001b[0;34m,\u001b[0m \u001b[0mcategories\u001b[0m\u001b[0;34m,\u001b[0m \u001b[0mext_columns_dtypes\u001b[0m\u001b[0;34m)\u001b[0m\u001b[0;34m\u001b[0m\u001b[0;34m\u001b[0m\u001b[0m\n\u001b[0m\u001b[1;32m    790\u001b[0m \u001b[0;34m\u001b[0m\u001b[0m\n\u001b[1;32m    791\u001b[0m     \u001b[0maxes\u001b[0m \u001b[0;34m=\u001b[0m \u001b[0;34m[\u001b[0m\u001b[0mcolumns\u001b[0m\u001b[0;34m,\u001b[0m \u001b[0mindex\u001b[0m\u001b[0;34m]\u001b[0m\u001b[0;34m\u001b[0m\u001b[0;34m\u001b[0m\u001b[0m\n",
      "\u001b[0;32m~/miniconda3/envs/entropy/lib/python3.9/site-packages/pyarrow/pandas_compat.py\u001b[0m in \u001b[0;36m_table_to_blocks\u001b[0;34m(options, block_table, categories, extension_columns)\u001b[0m\n\u001b[1;32m   1126\u001b[0m     \u001b[0;31m# Convert an arrow table to Block from the internal pandas API\u001b[0m\u001b[0;34m\u001b[0m\u001b[0;34m\u001b[0m\u001b[0m\n\u001b[1;32m   1127\u001b[0m     \u001b[0mcolumns\u001b[0m \u001b[0;34m=\u001b[0m \u001b[0mblock_table\u001b[0m\u001b[0;34m.\u001b[0m\u001b[0mcolumn_names\u001b[0m\u001b[0;34m\u001b[0m\u001b[0;34m\u001b[0m\u001b[0m\n\u001b[0;32m-> 1128\u001b[0;31m     result = pa.lib.table_to_blocks(options, block_table, categories,\n\u001b[0m\u001b[1;32m   1129\u001b[0m                                     list(extension_columns.keys()))\n\u001b[1;32m   1130\u001b[0m     return [_reconstruct_block(item, columns, extension_columns)\n",
      "\u001b[0;31mKeyboardInterrupt\u001b[0m: "
     ]
    }
   ],
   "source": [
    "# load data\n",
    "\n",
    "dfa = io.read_parquet('s3://3di-project-eval/eval.parquet')\n",
    "hd.inspect(dfa)\n",
    "\n",
    "dft = md.read_piece('~/tmp/mdb_111.parquet')\n",
    "hd.inspect(dft)"
   ]
  },
  {
   "cell_type": "code",
   "execution_count": 41,
   "id": "d4e34543-0544-48e6-b385-1da18be35d5e",
   "metadata": {},
   "outputs": [
    {
     "data": {
      "text/plain": [
       "['3di-data-mdb/clean/',\n",
       " '3di-data-mdb/clean/mdb_000.parquet',\n",
       " '3di-data-mdb/clean/mdb_111.parquet',\n",
       " '3di-data-mdb/clean/mdb_777.parquet',\n",
       " '3di-data-mdb/clean/mdb_X11.parquet',\n",
       " '3di-data-mdb/clean/mdb_X77.parquet',\n",
       " '3di-data-mdb/clean/mdb_costa.parquet',\n",
       " '3di-data-mdb/clean/pieces',\n",
       " '3di-data-mdb/clean/samples']"
      ]
     },
     "execution_count": 41,
     "metadata": {},
     "output_type": "execute_result"
    }
   ],
   "source": [
    "fp = 's3://3di-data-mdb/clean/'\n",
    "# fp = 's3://3di-project-eval/'\n",
    "fs.ls(fp, refresh=True, detail=False)"
   ]
  },
  {
   "cell_type": "code",
   "execution_count": 51,
   "id": "2f444dbc-8551-45c0-b1c4-7e66c5a768cb",
   "metadata": {},
   "outputs": [
    {
     "data": {
      "text/plain": [
       "(array([0, 0, 0, ..., 1, 1, 1]),\n",
       " Index(['london', 'south east', 'south west', 'west midlands',\n",
       "        'yorkshire and the humber', 'east of england', 'north west', 'scotland',\n",
       "        'wales', 'east midlands', 'north east', 'northern ireland'],\n",
       "       dtype='object'))"
      ]
     },
     "execution_count": 51,
     "metadata": {},
     "output_type": "execute_result"
    }
   ],
   "source": [
    "k.region_name)"
   ]
  },
  {
   "cell_type": "markdown",
   "id": "fe0ee829-fb5b-4ac3-ade8-16c55852c0f8",
   "metadata": {},
   "source": [
    "## dev"
   ]
  },
  {
   "cell_type": "markdown",
   "id": "77b4d92d-0179-4d4d-833e-f6d888fb12e1",
   "metadata": {},
   "source": [
    "## dev -- agg tester"
   ]
  },
  {
   "cell_type": "code",
   "execution_count": 89,
   "id": "d827c8b0-4a6d-4666-87c9-248728f96590",
   "metadata": {},
   "outputs": [
    {
     "data": {
      "text/html": [
       "<div>\n",
       "<style scoped>\n",
       "    .dataframe tbody tr th:only-of-type {\n",
       "        vertical-align: middle;\n",
       "    }\n",
       "\n",
       "    .dataframe tbody tr th {\n",
       "        vertical-align: top;\n",
       "    }\n",
       "\n",
       "    .dataframe thead th {\n",
       "        text-align: right;\n",
       "    }\n",
       "</style>\n",
       "<table border=\"1\" class=\"dataframe\">\n",
       "  <thead>\n",
       "    <tr style=\"text-align: right;\">\n",
       "      <th></th>\n",
       "      <th></th>\n",
       "      <th>num_accounts</th>\n",
       "    </tr>\n",
       "    <tr>\n",
       "      <th>user_id</th>\n",
       "      <th>ym</th>\n",
       "      <th></th>\n",
       "    </tr>\n",
       "  </thead>\n",
       "  <tbody>\n",
       "    <tr>\n",
       "      <th rowspan=\"5\" valign=\"top\">111</th>\n",
       "      <th>2012-01</th>\n",
       "      <td>12</td>\n",
       "    </tr>\n",
       "    <tr>\n",
       "      <th>2012-02</th>\n",
       "      <td>12</td>\n",
       "    </tr>\n",
       "    <tr>\n",
       "      <th>2012-03</th>\n",
       "      <td>12</td>\n",
       "    </tr>\n",
       "    <tr>\n",
       "      <th>2012-04</th>\n",
       "      <td>12</td>\n",
       "    </tr>\n",
       "    <tr>\n",
       "      <th>2012-05</th>\n",
       "      <td>12</td>\n",
       "    </tr>\n",
       "    <tr>\n",
       "      <th>...</th>\n",
       "      <th>...</th>\n",
       "      <td>...</td>\n",
       "    </tr>\n",
       "    <tr>\n",
       "      <th rowspan=\"5\" valign=\"top\">589111</th>\n",
       "      <th>2020-03</th>\n",
       "      <td>2</td>\n",
       "    </tr>\n",
       "    <tr>\n",
       "      <th>2020-04</th>\n",
       "      <td>2</td>\n",
       "    </tr>\n",
       "    <tr>\n",
       "      <th>2020-05</th>\n",
       "      <td>2</td>\n",
       "    </tr>\n",
       "    <tr>\n",
       "      <th>2020-06</th>\n",
       "      <td>2</td>\n",
       "    </tr>\n",
       "    <tr>\n",
       "      <th>2020-07</th>\n",
       "      <td>2</td>\n",
       "    </tr>\n",
       "  </tbody>\n",
       "</table>\n",
       "<p>7303 rows × 1 columns</p>\n",
       "</div>"
      ],
      "text/plain": [
       "                 num_accounts\n",
       "user_id ym                   \n",
       "111     2012-01            12\n",
       "        2012-02            12\n",
       "        2012-03            12\n",
       "        2012-04            12\n",
       "        2012-05            12\n",
       "...                       ...\n",
       "589111  2020-03             2\n",
       "        2020-04             2\n",
       "        2020-05             2\n",
       "        2020-06             2\n",
       "        2020-07             2\n",
       "\n",
       "[7303 rows x 1 columns]"
      ]
     },
     "execution_count": 89,
     "metadata": {},
     "output_type": "execute_result"
    }
   ],
   "source": [
    "k = agg.num_accounts(dft)\n",
    "k"
   ]
  },
  {
   "cell_type": "code",
   "execution_count": 99,
   "id": "dbb7fa2f-e169-4c65-8055-aa506b5c206e",
   "metadata": {},
   "outputs": [
    {
     "data": {
      "text/plain": [
       "<AxesSubplot:xlabel='generation', ylabel='netflows'>"
      ]
     },
     "execution_count": 99,
     "metadata": {},
     "output_type": "execute_result"
    },
    {
     "data": {
      "image/png": "[encoded data removed]",
      "text/plain": [
       "<Figure size 432x288 with 1 Axes>"
      ]
     },
     "metadata": {
      "needs_background": "light"
     },
     "output_type": "display_data"
    }
   ],
   "source": [
    "s = dfa.sample(10_000)\n",
    "sns.violinplot(data=s, x='generation', y='netflows', hue='is_female', split=True)"
   ]
  }
 ],
 "metadata": {
  "kernelspec": {
   "display_name": "mdb_eval",
   "language": "python",
   "name": "mdb_eval"
  },
  "language_info": {
   "codemirror_mode": {
    "name": "ipython",
    "version": 3
   },
   "file_extension": ".py",
   "mimetype": "text/x-python",
   "name": "python",
   "nbconvert_exporter": "python",
   "pygments_lexer": "ipython3",
   "version": "3.9.7"
  }
 },
 "nbformat": 4,
 "nbformat_minor": 5
}
