{
 "cells": [
  {
   "cell_type": "code",
   "execution_count": 66,
   "id": "38f76c0a-9aae-43c8-b678-33958fda09d9",
   "metadata": {},
   "outputs": [],
   "source": [
    "import sys\n",
    "\n",
    "import pandas as pd\n",
    "import s3fs\n",
    "\n",
    "sys.path.append(\"/Users/fgu/dev/projects/mdb_eval\")\n",
    "import src.helpers.io as io\n",
    "\n",
    "fs = s3fs.S3FileSystem(profile=\"3di\")"
   ]
  },
  {
   "cell_type": "code",
   "execution_count": 67,
   "id": "d4e34543-0544-48e6-b385-1da18be35d5e",
   "metadata": {},
   "outputs": [
    {
     "data": {
      "text/plain": [
       "['3di-data-mdb/clean/',\n",
       " '3di-data-mdb/clean/data_XX7.parquet',\n",
       " '3di-data-mdb/clean/mdb_000.parquet',\n",
       " '3di-data-mdb/clean/mdb_777.parquet',\n",
       " '3di-data-mdb/clean/mdb_X77.parquet',\n",
       " '3di-data-mdb/clean/mdb_clean_111.parquet',\n",
       " '3di-data-mdb/clean/mdb_clean_X11.parquet',\n",
       " '3di-data-mdb/clean/mdb_clean_XX01.parquet',\n",
       " '3di-data-mdb/clean/mdb_costa.parquet',\n",
       " '3di-data-mdb/clean/pieces',\n",
       " '3di-data-mdb/clean/samples']"
      ]
     },
     "execution_count": 67,
     "metadata": {},
     "output_type": "execute_result"
    }
   ],
   "source": [
    "fs.ls('3di-data-mdb/clean')"
   ]
  },
  {
   "cell_type": "code",
   "execution_count": 68,
   "id": "4c8000f0-dd86-45fc-95a6-976703496b19",
   "metadata": {},
   "outputs": [],
   "source": [
    "df = hio.read_parquet('s3://3di-project-eval/eval_111.parquet')"
   ]
  },
  {
   "cell_type": "code",
   "execution_count": 69,
   "id": "15cfddac-693e-40b4-989c-5f8ac30e6217",
   "metadata": {},
   "outputs": [
    {
     "data": {
      "text/html": [
       "<div>\n",
       "<style scoped>\n",
       "    .dataframe tbody tr th:only-of-type {\n",
       "        vertical-align: middle;\n",
       "    }\n",
       "\n",
       "    .dataframe tbody tr th {\n",
       "        vertical-align: top;\n",
       "    }\n",
       "\n",
       "    .dataframe thead th {\n",
       "        text-align: right;\n",
       "    }\n",
       "</style>\n",
       "<table border=\"1\" class=\"dataframe\">\n",
       "  <thead>\n",
       "    <tr style=\"text-align: right;\">\n",
       "      <th></th>\n",
       "      <th>user_id</th>\n",
       "      <th>ym</th>\n",
       "      <th>txns_count</th>\n",
       "    </tr>\n",
       "  </thead>\n",
       "  <tbody>\n",
       "    <tr>\n",
       "      <th>0</th>\n",
       "      <td>111</td>\n",
       "      <td>2012-01</td>\n",
       "      <td>39.0</td>\n",
       "    </tr>\n",
       "    <tr>\n",
       "      <th>1</th>\n",
       "      <td>111</td>\n",
       "      <td>2012-02</td>\n",
       "      <td>38.0</td>\n",
       "    </tr>\n",
       "    <tr>\n",
       "      <th>2</th>\n",
       "      <td>111</td>\n",
       "      <td>2012-03</td>\n",
       "      <td>35.0</td>\n",
       "    </tr>\n",
       "    <tr>\n",
       "      <th>3</th>\n",
       "      <td>111</td>\n",
       "      <td>2012-04</td>\n",
       "      <td>28.0</td>\n",
       "    </tr>\n",
       "    <tr>\n",
       "      <th>4</th>\n",
       "      <td>111</td>\n",
       "      <td>2012-05</td>\n",
       "      <td>46.0</td>\n",
       "    </tr>\n",
       "    <tr>\n",
       "      <th>...</th>\n",
       "      <td>...</td>\n",
       "      <td>...</td>\n",
       "      <td>...</td>\n",
       "    </tr>\n",
       "    <tr>\n",
       "      <th>7221</th>\n",
       "      <td>589111</td>\n",
       "      <td>2020-03</td>\n",
       "      <td>95.0</td>\n",
       "    </tr>\n",
       "    <tr>\n",
       "      <th>7222</th>\n",
       "      <td>589111</td>\n",
       "      <td>2020-04</td>\n",
       "      <td>56.0</td>\n",
       "    </tr>\n",
       "    <tr>\n",
       "      <th>7223</th>\n",
       "      <td>589111</td>\n",
       "      <td>2020-05</td>\n",
       "      <td>63.0</td>\n",
       "    </tr>\n",
       "    <tr>\n",
       "      <th>7224</th>\n",
       "      <td>589111</td>\n",
       "      <td>2020-06</td>\n",
       "      <td>87.0</td>\n",
       "    </tr>\n",
       "    <tr>\n",
       "      <th>7225</th>\n",
       "      <td>589111</td>\n",
       "      <td>2020-07</td>\n",
       "      <td>77.0</td>\n",
       "    </tr>\n",
       "  </tbody>\n",
       "</table>\n",
       "<p>7226 rows × 3 columns</p>\n",
       "</div>"
      ],
      "text/plain": [
       "      user_id       ym  txns_count\n",
       "0         111  2012-01        39.0\n",
       "1         111  2012-02        38.0\n",
       "2         111  2012-03        35.0\n",
       "3         111  2012-04        28.0\n",
       "4         111  2012-05        46.0\n",
       "...       ...      ...         ...\n",
       "7221   589111  2020-03        95.0\n",
       "7222   589111  2020-04        56.0\n",
       "7223   589111  2020-05        63.0\n",
       "7224   589111  2020-06        87.0\n",
       "7225   589111  2020-07        77.0\n",
       "\n",
       "[7226 rows x 3 columns]"
      ]
     },
     "execution_count": 69,
     "metadata": {},
     "output_type": "execute_result"
    }
   ],
   "source": [
    "df"
   ]
  },
  {
   "cell_type": "code",
   "execution_count": null,
   "id": "968fd417-07f2-4b81-9feb-80c1d41c24c7",
   "metadata": {},
   "outputs": [],
   "source": []
  }
 ],
 "metadata": {
  "kernelspec": {
   "display_name": "mdb_eval",
   "language": "python",
   "name": "mdb_eval"
  },
  "language_info": {
   "codemirror_mode": {
    "name": "ipython",
    "version": 3
   },
   "file_extension": ".py",
   "mimetype": "text/x-python",
   "name": "python",
   "nbconvert_exporter": "python",
   "pygments_lexer": "ipython3",
   "version": "3.9.7"
  }
 },
 "nbformat": 4,
 "nbformat_minor": 5
}
