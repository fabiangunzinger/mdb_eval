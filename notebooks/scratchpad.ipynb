{
 "cells": [
  {
   "cell_type": "code",
   "execution_count": 10,
   "id": "38f76c0a-9aae-43c8-b678-33958fda09d9",
   "metadata": {},
   "outputs": [
    {
     "name": "stdout",
     "output_type": "stream",
     "text": [
      "The autoreload extension is already loaded. To reload it, use:\n",
      "  %reload_ext autoreload\n"
     ]
    }
   ],
   "source": [
    "import sys\n",
    "\n",
    "import numpy as np\n",
    "import pandas as pd\n",
    "import s3fs\n",
    "\n",
    "sys.path.append(\"/Users/fgu/dev/projects/mdb_eval\")\n",
    "import src.helpers.io as io\n",
    "import src.helpers.data as hd\n",
    "import src.data.aggregators as agg\n",
    "import src.data.selectors as sl\n",
    "\n",
    "fs = s3fs.S3FileSystem(profile=\"3di\")\n",
    "\n",
    "pd.set_option(\"display.max_rows\", 120)\n",
    "pd.set_option(\"display.max_columns\", 120)\n",
    "pd.set_option(\"max_colwidth\", None)\n",
    "%load_ext autoreload\n",
    "%autoreload 2"
   ]
  },
  {
   "cell_type": "code",
   "execution_count": 2,
   "id": "d4e34543-0544-48e6-b385-1da18be35d5e",
   "metadata": {},
   "outputs": [
    {
     "data": {
      "text/plain": [
       "['3di-data-mdb/clean/',\n",
       " '3di-data-mdb/clean/mdb_000.parquet',\n",
       " '3di-data-mdb/clean/mdb_111.parquet',\n",
       " '3di-data-mdb/clean/mdb_777.parquet',\n",
       " '3di-data-mdb/clean/mdb_X11.parquet',\n",
       " '3di-data-mdb/clean/mdb_X77.parquet',\n",
       " '3di-data-mdb/clean/mdb_costa.parquet',\n",
       " '3di-data-mdb/clean/pieces',\n",
       " '3di-data-mdb/clean/samples']"
      ]
     },
     "execution_count": 2,
     "metadata": {},
     "output_type": "execute_result"
    }
   ],
   "source": [
    "fs.ls('s3://3di-data-mdb/clean')"
   ]
  },
  {
   "cell_type": "code",
   "execution_count": 44,
   "id": "4c8000f0-dd86-45fc-95a6-976703496b19",
   "metadata": {},
   "outputs": [
    {
     "name": "stdout",
     "output_type": "stream",
     "text": [
      "shape: (0, 23), users: 0\n"
     ]
    },
    {
     "data": {
      "text/html": [
       "<div>\n",
       "<style scoped>\n",
       "    .dataframe tbody tr th:only-of-type {\n",
       "        vertical-align: middle;\n",
       "    }\n",
       "\n",
       "    .dataframe tbody tr th {\n",
       "        vertical-align: top;\n",
       "    }\n",
       "\n",
       "    .dataframe thead th {\n",
       "        text-align: right;\n",
       "    }\n",
       "</style>\n",
       "<table border=\"1\" class=\"dataframe\">\n",
       "  <thead>\n",
       "    <tr style=\"text-align: right;\">\n",
       "      <th></th>\n",
       "      <th>user_id</th>\n",
       "      <th>ym</th>\n",
       "      <th>ymn</th>\n",
       "      <th>txns_count</th>\n",
       "      <th>txns_volume</th>\n",
       "      <th>month_income</th>\n",
       "      <th>inflows</th>\n",
       "      <th>outflows</th>\n",
       "      <th>netflows</th>\n",
       "      <th>netflows_norm</th>\n",
       "      <th>inflows_norm</th>\n",
       "      <th>outflows_norm</th>\n",
       "      <th>has_pos_netflows</th>\n",
       "      <th>pos_netflows_norm</th>\n",
       "      <th>t</th>\n",
       "      <th>month_spend</th>\n",
       "      <th>pct_credit</th>\n",
       "      <th>age</th>\n",
       "      <th>is_female</th>\n",
       "      <th>region_name</th>\n",
       "      <th>is_urban</th>\n",
       "      <th>has_sa_account</th>\n",
       "      <th>generation</th>\n",
       "    </tr>\n",
       "  </thead>\n",
       "  <tbody>\n",
       "  </tbody>\n",
       "</table>\n",
       "</div>"
      ],
      "text/plain": [
       "Empty DataFrame\n",
       "Columns: [user_id, ym, ymn, txns_count, txns_volume, month_income, inflows, outflows, netflows, netflows_norm, inflows_norm, outflows_norm, has_pos_netflows, pos_netflows_norm, t, month_spend, pct_credit, age, is_female, region_name, is_urban, has_sa_account, generation]\n",
       "Index: []"
      ]
     },
     "metadata": {},
     "output_type": "display_data"
    }
   ],
   "source": [
    "df = io.read_parquet('s3://3di-project-eval/eval_111.parquet')\n",
    "hd.inspect(df)"
   ]
  },
  {
   "cell_type": "code",
   "execution_count": 7,
   "id": "44b98047-d0e3-4f97-8bbb-01fc99f51ce5",
   "metadata": {},
   "outputs": [
    {
     "data": {
      "text/plain": [
       "False"
      ]
     },
     "execution_count": 7,
     "metadata": {},
     "output_type": "execute_result"
    }
   ],
   "source": []
  },
  {
   "cell_type": "markdown",
   "id": "27fbfcef-c42d-4528-9ea0-8919bbc72759",
   "metadata": {},
   "source": [
    "## txn data dev"
   ]
  },
  {
   "cell_type": "code",
   "execution_count": 12,
   "id": "15cfddac-693e-40b4-989c-5f8ac30e6217",
   "metadata": {},
   "outputs": [],
   "source": [
    "dfm = io.read_parquet('s3://3di-data-mdb/clean/mdb_111.parquet')"
   ]
  },
  {
   "cell_type": "code",
   "execution_count": 43,
   "id": "d827c8b0-4a6d-4666-87c9-248728f96590",
   "metadata": {},
   "outputs": [
    {
     "name": "stdout",
     "output_type": "stream",
     "text": [
      "Time for sa_check                      : 0.04 seconds\n"
     ]
    },
    {
     "data": {
      "text/plain": [
       "user_id\n",
       "111        True\n",
       "1111      False\n",
       "5111      False\n",
       "6111      False\n",
       "7111       True\n",
       "          ...  \n",
       "583111    False\n",
       "584111    False\n",
       "587111     True\n",
       "588111    False\n",
       "589111     True\n",
       "Name: has_sa_account, Length: 270, dtype: bool"
      ]
     },
     "execution_count": 43,
     "metadata": {},
     "output_type": "execute_result"
    }
   ],
   "source": [
    "agg.sa_check(dfm).groupby('user_id').max()"
   ]
  },
  {
   "cell_type": "code",
   "execution_count": null,
   "id": "aa0d3460-3870-4e41-b884-dad55fa6b5a6",
   "metadata": {},
   "outputs": [],
   "source": [
    "kk"
   ]
  }
 ],
 "metadata": {
  "kernelspec": {
   "display_name": "mdb_eval",
   "language": "python",
   "name": "mdb_eval"
  },
  "language_info": {
   "codemirror_mode": {
    "name": "ipython",
    "version": 3
   },
   "file_extension": ".py",
   "mimetype": "text/x-python",
   "name": "python",
   "nbconvert_exporter": "python",
   "pygments_lexer": "ipython3",
   "version": "3.9.7"
  }
 },
 "nbformat": 4,
 "nbformat_minor": 5
}
