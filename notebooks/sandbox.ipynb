{
 "cells": [
  {
   "cell_type": "code",
   "execution_count": 1,
   "id": "ace5cf7b-9efc-4759-859e-dc12cf4a1bf0",
   "metadata": {},
   "outputs": [],
   "source": [
    "import sys\n",
    "\n",
    "import matplotlib.pyplot as plt\n",
    "import numpy as np\n",
    "import pandas as pd\n",
    "import s3fs\n",
    "import seaborn as sns\n",
    "\n",
    "sys.path.append(\"/Users/fgu/dev/projects/mdb_eval\")\n",
    "import src.data.aggregators as agg\n",
    "import src.data.make_data as md\n",
    "import src.data.selectors as sl\n",
    "import src.helpers.data as hd\n",
    "import src.helpers.io as io\n",
    "\n",
    "fs = s3fs.S3FileSystem(profile=\"3di\")\n",
    "\n",
    "sns.set_style(\"whitegrid\")\n",
    "pd.set_option(\"display.max_rows\", 120)\n",
    "pd.set_option(\"display.max_columns\", 120)\n",
    "pd.set_option(\"max_colwidth\", None)\n",
    "%config InlineBackend.figure_format = 'retina'\n",
    "%load_ext autoreload\n",
    "%autoreload 2"
   ]
  },
  {
   "cell_type": "code",
   "execution_count": 2,
   "id": "babdabb6-755e-4d02-bcbb-1362c0cd3452",
   "metadata": {},
   "outputs": [
    {
     "name": "stdout",
     "output_type": "stream",
     "text": [
      "shape: (197,951, 42), users: 7568\n"
     ]
    },
    {
     "data": {
      "text/html": [
       "<div>\n",
       "<style scoped>\n",
       "    .dataframe tbody tr th:only-of-type {\n",
       "        vertical-align: middle;\n",
       "    }\n",
       "\n",
       "    .dataframe tbody tr th {\n",
       "        vertical-align: top;\n",
       "    }\n",
       "\n",
       "    .dataframe thead th {\n",
       "        text-align: right;\n",
       "    }\n",
       "</style>\n",
       "<table border=\"1\" class=\"dataframe\">\n",
       "  <thead>\n",
       "    <tr style=\"text-align: right;\">\n",
       "      <th></th>\n",
       "      <th>user_id</th>\n",
       "      <th>ym</th>\n",
       "      <th>ymn</th>\n",
       "      <th>month</th>\n",
       "      <th>txns_count</th>\n",
       "      <th>txns_volume</th>\n",
       "      <th>month_income</th>\n",
       "      <th>year_income</th>\n",
       "      <th>month_income_mean</th>\n",
       "      <th>inflows</th>\n",
       "      <th>outflows</th>\n",
       "      <th>netflows</th>\n",
       "      <th>netflows_norm</th>\n",
       "      <th>inflows_norm</th>\n",
       "      <th>outflows_norm</th>\n",
       "      <th>has_pos_netflows</th>\n",
       "      <th>pos_netflows</th>\n",
       "      <th>user_reg_ym</th>\n",
       "      <th>t</th>\n",
       "      <th>tt</th>\n",
       "      <th>month_spend</th>\n",
       "      <th>age</th>\n",
       "      <th>is_female</th>\n",
       "      <th>region</th>\n",
       "      <th>is_urban</th>\n",
       "      <th>region_code</th>\n",
       "      <th>has_savings_account</th>\n",
       "      <th>has_current_account</th>\n",
       "      <th>generation</th>\n",
       "      <th>generation_code</th>\n",
       "      <th>prop_credit</th>\n",
       "      <th>dspend</th>\n",
       "      <th>dspend_count</th>\n",
       "      <th>dspend_mean</th>\n",
       "      <th>accounts_active</th>\n",
       "      <th>accounts_total</th>\n",
       "      <th>investments</th>\n",
       "      <th>up_savings</th>\n",
       "      <th>ca_transfers</th>\n",
       "      <th>cc_payments</th>\n",
       "      <th>loan_funds</th>\n",
       "      <th>loan_rpmts</th>\n",
       "    </tr>\n",
       "  </thead>\n",
       "  <tbody>\n",
       "    <tr>\n",
       "      <th>0</th>\n",
       "      <td>447910</td>\n",
       "      <td>2017-07</td>\n",
       "      <td>201707</td>\n",
       "      <td>7</td>\n",
       "      <td>42.0</td>\n",
       "      <td>5510.450195</td>\n",
       "      <td>0.310000</td>\n",
       "      <td>43549.929688</td>\n",
       "      <td>7258.321289</td>\n",
       "      <td>0.0</td>\n",
       "      <td>500.000000</td>\n",
       "      <td>-500.000000</td>\n",
       "      <td>-243.100876</td>\n",
       "      <td>0.0</td>\n",
       "      <td>84.492371</td>\n",
       "      <td>0</td>\n",
       "      <td>-0.0</td>\n",
       "      <td>2018-07</td>\n",
       "      <td>0</td>\n",
       "      <td>-12</td>\n",
       "      <td>1523.790039</td>\n",
       "      <td>58.0</td>\n",
       "      <td>0.0</td>\n",
       "      <td>north west</td>\n",
       "      <td>1.0</td>\n",
       "      <td>8</td>\n",
       "      <td>True</td>\n",
       "      <td>True</td>\n",
       "      <td>Boomers</td>\n",
       "      <td>1</td>\n",
       "      <td>0.0</td>\n",
       "      <td>777.020020</td>\n",
       "      <td>16.0</td>\n",
       "      <td>48.563751</td>\n",
       "      <td>2</td>\n",
       "      <td>4</td>\n",
       "      <td>0.0</td>\n",
       "      <td>0.0</td>\n",
       "      <td>1055.599976</td>\n",
       "      <td>0.0</td>\n",
       "      <td>0.0</td>\n",
       "      <td>0.0</td>\n",
       "    </tr>\n",
       "    <tr>\n",
       "      <th>1</th>\n",
       "      <td>447910</td>\n",
       "      <td>2017-08</td>\n",
       "      <td>201708</td>\n",
       "      <td>8</td>\n",
       "      <td>66.0</td>\n",
       "      <td>18879.669922</td>\n",
       "      <td>7809.600098</td>\n",
       "      <td>43549.929688</td>\n",
       "      <td>7258.321289</td>\n",
       "      <td>0.0</td>\n",
       "      <td>1513.580078</td>\n",
       "      <td>-1513.580078</td>\n",
       "      <td>-0.193810</td>\n",
       "      <td>0.0</td>\n",
       "      <td>0.193810</td>\n",
       "      <td>0</td>\n",
       "      <td>-0.0</td>\n",
       "      <td>2018-07</td>\n",
       "      <td>0</td>\n",
       "      <td>-11</td>\n",
       "      <td>3135.369873</td>\n",
       "      <td>58.0</td>\n",
       "      <td>0.0</td>\n",
       "      <td>north west</td>\n",
       "      <td>1.0</td>\n",
       "      <td>8</td>\n",
       "      <td>True</td>\n",
       "      <td>True</td>\n",
       "      <td>Boomers</td>\n",
       "      <td>1</td>\n",
       "      <td>0.0</td>\n",
       "      <td>707.809998</td>\n",
       "      <td>17.0</td>\n",
       "      <td>41.635883</td>\n",
       "      <td>2</td>\n",
       "      <td>4</td>\n",
       "      <td>0.0</td>\n",
       "      <td>0.0</td>\n",
       "      <td>1671.940063</td>\n",
       "      <td>0.0</td>\n",
       "      <td>0.0</td>\n",
       "      <td>0.0</td>\n",
       "    </tr>\n",
       "  </tbody>\n",
       "</table>\n",
       "</div>"
      ],
      "text/plain": [
       "   user_id       ym     ymn  month  txns_count   txns_volume  month_income  \\\n",
       "0   447910  2017-07  201707      7        42.0   5510.450195      0.310000   \n",
       "1   447910  2017-08  201708      8        66.0  18879.669922   7809.600098   \n",
       "\n",
       "    year_income  month_income_mean  inflows     outflows     netflows  \\\n",
       "0  43549.929688        7258.321289      0.0   500.000000  -500.000000   \n",
       "1  43549.929688        7258.321289      0.0  1513.580078 -1513.580078   \n",
       "\n",
       "   netflows_norm  inflows_norm  outflows_norm  has_pos_netflows  pos_netflows  \\\n",
       "0    -243.100876           0.0      84.492371                 0          -0.0   \n",
       "1      -0.193810           0.0       0.193810                 0          -0.0   \n",
       "\n",
       "  user_reg_ym  t  tt  month_spend   age  is_female      region  is_urban  \\\n",
       "0     2018-07  0 -12  1523.790039  58.0        0.0  north west       1.0   \n",
       "1     2018-07  0 -11  3135.369873  58.0        0.0  north west       1.0   \n",
       "\n",
       "   region_code  has_savings_account  has_current_account generation  \\\n",
       "0            8                 True                 True    Boomers   \n",
       "1            8                 True                 True    Boomers   \n",
       "\n",
       "   generation_code  prop_credit      dspend  dspend_count  dspend_mean  \\\n",
       "0                1          0.0  777.020020          16.0    48.563751   \n",
       "1                1          0.0  707.809998          17.0    41.635883   \n",
       "\n",
       "   accounts_active  accounts_total  investments  up_savings  ca_transfers  \\\n",
       "0                2               4          0.0         0.0   1055.599976   \n",
       "1                2               4          0.0         0.0   1671.940063   \n",
       "\n",
       "   cc_payments  loan_funds  loan_rpmts  \n",
       "0          0.0         0.0         0.0  \n",
       "1          0.0         0.0         0.0  "
      ]
     },
     "metadata": {},
     "output_type": "display_data"
    }
   ],
   "source": [
    "df = hd.read_analysis_data()\n",
    "hd.inspect(df)"
   ]
  },
  {
   "cell_type": "code",
   "execution_count": 5,
   "id": "effee099",
   "metadata": {},
   "outputs": [
    {
     "data": {
      "text/plain": [
       "<AxesSubplot:>"
      ]
     },
     "execution_count": 5,
     "metadata": {},
     "output_type": "execute_result"
    },
    {
     "data": {
      "image/png": "[encoded data removed]",
      "text/plain": [
       "<Figure size 432x288 with 1 Axes>"
      ]
     },
     "metadata": {
      "image/png": {
       "height": 248,
       "width": 384
      }
     },
     "output_type": "display_data"
    }
   ],
   "source": [
    "df.txns_count.hist()"
   ]
  },
  {
   "cell_type": "code",
   "execution_count": 6,
   "id": "bc3ee168",
   "metadata": {},
   "outputs": [
    {
     "data": {
      "text/plain": [
       "count    197951.000000\n",
       "mean          6.409258\n",
       "std           3.452720\n",
       "min           1.000000\n",
       "25%           3.000000\n",
       "50%           6.000000\n",
       "75%           9.000000\n",
       "max          12.000000\n",
       "Name: month, dtype: float64"
      ]
     },
     "execution_count": 6,
     "metadata": {},
     "output_type": "execute_result"
    }
   ],
   "source": [
    "df.month.describe"
   ]
  },
  {
   "cell_type": "code",
   "execution_count": null,
   "id": "7d81d72e",
   "metadata": {},
   "outputs": [],
   "source": []
  },
  {
   "cell_type": "markdown",
   "id": "dcfa97bb-194d-4690-8cac-f1a75cbf9b94",
   "metadata": {},
   "source": []
  }
 ],
 "metadata": {
  "kernelspec": {
   "display_name": "mdb_eval",
   "language": "python",
   "name": "mdb_eval"
  },
  "language_info": {
   "codemirror_mode": {
    "name": "ipython",
    "version": 3
   },
   "file_extension": ".py",
   "mimetype": "text/x-python",
   "name": "python",
   "nbconvert_exporter": "python",
   "pygments_lexer": "ipython3",
   "version": "3.9.7"
  }
 },
 "nbformat": 4,
 "nbformat_minor": 5
}
