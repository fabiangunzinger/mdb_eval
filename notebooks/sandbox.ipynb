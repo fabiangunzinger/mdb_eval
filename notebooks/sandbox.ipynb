{
 "cells": [
  {
   "cell_type": "code",
   "execution_count": 1,
   "id": "ace5cf7b-9efc-4759-859e-dc12cf4a1bf0",
   "metadata": {},
   "outputs": [],
   "source": [
    "import sys\n",
    "\n",
    "import matplotlib.pyplot as plt\n",
    "import numpy as np\n",
    "import pandas as pd\n",
    "import s3fs\n",
    "import seaborn as sns\n",
    "\n",
    "sys.path.append(\"/Users/fgu/dev/projects/mdb_eval\")\n",
    "import src.data.aggregators as agg\n",
    "import src.data.make_data as md\n",
    "import src.data.selectors as sl\n",
    "import src.helpers.data as hd\n",
    "import src.helpers.io as io\n",
    "\n",
    "fs = s3fs.S3FileSystem(profile=\"3di\")\n",
    "\n",
    "sns.set_style(\"whitegrid\")\n",
    "pd.set_option(\"display.max_rows\", 120)\n",
    "pd.set_option(\"display.max_columns\", 120)\n",
    "pd.set_option(\"max_colwidth\", None)\n",
    "%config InlineBackend.figure_format = 'retina'\n",
    "%load_ext autoreload\n",
    "%autoreload 2"
   ]
  },
  {
   "cell_type": "code",
   "execution_count": 2,
   "id": "0737741e-d7ad-4027-b2d4-264f4f23233c",
   "metadata": {},
   "outputs": [
    {
     "name": "stdout",
     "output_type": "stream",
     "text": [
      "Time for read_txn_data                 : 3.22 minutes\n"
     ]
    }
   ],
   "source": [
    "dft = hd.read_txn_data(\"X11\")\n",
    "dfa = hd.read_analysis_data()"
   ]
  },
  {
   "cell_type": "code",
   "execution_count": 24,
   "id": "8d4e9769-3437-4d25-bf8f-a617e436f5bc",
   "metadata": {},
   "outputs": [],
   "source": [
    "dfs = hd.read_analysis_data(\"XX0\")"
   ]
  },
  {
   "cell_type": "code",
   "execution_count": null,
   "id": "4d3f1063-b6ae-42b5-a4f8-76976c3a4870",
   "metadata": {},
   "outputs": [],
   "source": []
  }
 ],
 "metadata": {
  "kernelspec": {
   "display_name": "mdb_eval",
   "language": "python",
   "name": "mdb_eval"
  },
  "language_info": {
   "codemirror_mode": {
    "name": "ipython",
    "version": 3
   },
   "file_extension": ".py",
   "mimetype": "text/x-python",
   "name": "python",
   "nbconvert_exporter": "python",
   "pygments_lexer": "ipython3",
   "version": "3.9.7"
  }
 },
 "nbformat": 4,
 "nbformat_minor": 5
}
