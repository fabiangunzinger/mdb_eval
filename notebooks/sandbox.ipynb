{
 "cells": [
  {
   "cell_type": "code",
   "execution_count": 1,
   "id": "ace5cf7b-9efc-4759-859e-dc12cf4a1bf0",
   "metadata": {},
   "outputs": [],
   "source": [
    "import sys\n",
    "\n",
    "import matplotlib.pyplot as plt\n",
    "import numpy as np\n",
    "import pandas as pd\n",
    "import s3fs\n",
    "import seaborn as sns\n",
    "\n",
    "sys.path.append(\"/Users/fgu/dev/projects/mdb_eval\")\n",
    "import src.data.aggregators as agg\n",
    "import src.data.make_data as md\n",
    "import src.data.selectors as sl\n",
    "import src.helpers.data as hd\n",
    "import src.helpers.io as io\n",
    "\n",
    "fs = s3fs.S3FileSystem(profile=\"3di\")\n",
    "\n",
    "sns.set_style(\"whitegrid\")\n",
    "pd.set_option(\"display.max_rows\", 120)\n",
    "pd.set_option(\"display.max_columns\", 120)\n",
    "pd.set_option(\"max_colwidth\", None)\n",
    "%config InlineBackend.figure_format = 'retina'\n",
    "%load_ext autoreload\n",
    "%autoreload 2"
   ]
  },
  {
   "cell_type": "code",
   "execution_count": 2,
   "id": "0737741e-d7ad-4027-b2d4-264f4f23233c",
   "metadata": {},
   "outputs": [
    {
     "name": "stdout",
     "output_type": "stream",
     "text": [
      "Time for read_txn_data                 : 3.22 minutes\n"
     ]
    }
   ],
   "source": [
    "dft = hd.read_txn_data(\"X11\")\n",
    "dfa = hd.read_analysis_data()"
   ]
  },
  {
   "cell_type": "code",
   "execution_count": 15,
   "id": "4d3f1063-b6ae-42b5-a4f8-76976c3a4870",
   "metadata": {},
   "outputs": [
    {
     "data": {
      "text/plain": [
       "['3di-data-mdb/clean/samples/',\n",
       " '3di-data-mdb/clean/samples/mdb_1000.parquet',\n",
       " '3di-data-mdb/clean/samples/mdb_111.parquet',\n",
       " '3di-data-mdb/clean/samples/mdb_X11.parquet',\n",
       " '3di-data-mdb/clean/samples/mdb_costa.parquet']"
      ]
     },
     "execution_count": 15,
     "metadata": {},
     "output_type": "execute_result"
    }
   ],
   "source": [
    "fs.ls(\"3di-data-mdb/clean/samples\")"
   ]
  },
  {
   "cell_type": "code",
   "execution_count": 16,
   "id": "1d9694ba-be8e-4d85-8ceb-a7931896cbc9",
   "metadata": {},
   "outputs": [
    {
     "name": "stdout",
     "output_type": "stream",
     "text": [
      "Time for read_txn_data                 : 2.25 minutes\n"
     ]
    }
   ],
   "source": [
    "dft = hd.read_txn_data(\"111\")"
   ]
  },
  {
   "cell_type": "code",
   "execution_count": 20,
   "id": "0f4c6e33-0f95-4baf-bcb8-491ddd988ef1",
   "metadata": {},
   "outputs": [
    {
     "data": {
      "text/plain": [
       "0.2195392938851826"
      ]
     },
     "execution_count": 20,
     "metadata": {},
     "output_type": "execute_result"
    }
   ],
   "source": [
    "dft.tag_auto.isna().mean()"
   ]
  },
  {
   "cell_type": "code",
   "execution_count": 7,
   "id": "b9920a3a-f617-4144-8f49-f0505b4bad81",
   "metadata": {},
   "outputs": [],
   "source": [
    "df = hd.read_raw_data(\"777\")"
   ]
  },
  {
   "cell_type": "code",
   "execution_count": 21,
   "id": "af2c0800-3668-4af1-918a-b0adb15380c6",
   "metadata": {},
   "outputs": [
    {
     "data": {
      "text/plain": [
       "0.0003134814606478226"
      ]
     },
     "execution_count": 21,
     "metadata": {},
     "output_type": "execute_result"
    }
   ],
   "source": [
    "df[\"Transaction Description\"].isna().mean()"
   ]
  },
  {
   "cell_type": "code",
   "execution_count": null,
   "id": "f0c3e672-60ef-4229-88d0-3dd4341632e1",
   "metadata": {},
   "outputs": [],
   "source": []
  }
 ],
 "metadata": {
  "kernelspec": {
   "display_name": "mdb_eval",
   "language": "python",
   "name": "mdb_eval"
  },
  "language_info": {
   "codemirror_mode": {
    "name": "ipython",
    "version": 3
   },
   "file_extension": ".py",
   "mimetype": "text/x-python",
   "name": "python",
   "nbconvert_exporter": "python",
   "pygments_lexer": "ipython3",
   "version": "3.9.7"
  }
 },
 "nbformat": 4,
 "nbformat_minor": 5
}
